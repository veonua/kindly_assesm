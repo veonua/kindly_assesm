{
  "nbformat": 4,
  "nbformat_minor": 0,
  "metadata": {
    "colab": {
      "name": "Kindly case.ipynb",
      "provenance": [],
      "collapsed_sections": [],
      "authorship_tag": "ABX9TyP/4fMSlJFTj+4o3Mnvkbe/",
      "include_colab_link": true
    },
    "kernelspec": {
      "name": "python3",
      "display_name": "Python 3"
    },
    "language_info": {
      "name": "python"
    },
    "accelerator": "GPU"
  },
  "cells": [
    {
      "cell_type": "markdown",
      "metadata": {
        "id": "view-in-github",
        "colab_type": "text"
      },
      "source": [
        "<a href=\"https://colab.research.google.com/github/veonua/kindly_assesm/blob/main/Kindly_case.ipynb\" target=\"_parent\"><img src=\"https://colab.research.google.com/assets/colab-badge.svg\" alt=\"Open In Colab\"/></a>"
      ]
    },
    {
      "cell_type": "code",
      "metadata": {
        "id": "fnP3x7ELbwS2"
      },
      "source": [
        "# https://medium.com/geekculture/hugging-face-distilbert-tensorflow-for-custom-text-classification-1ad4a49e26a7\n",
        "\n",
        "!pip install transformers\n",
        "import pandas as pd\n",
        "import json\n",
        "import tensorflow as tf\n",
        "from transformers import TFDistilBertForSequenceClassification #, TFTrainer, TFTrainingArguments\n",
        "import os, datetime"
      ],
      "execution_count": null,
      "outputs": []
    },
    {
      "cell_type": "code",
      "metadata": {
        "id": "8YI6cjnhcPMQ"
      },
      "source": [
        "with open('./train_data.json', 'r') as f:\n",
        "    data = json.load(f)\n",
        "\n",
        "lis =  ((text, int(intent)) for intent, v in data.items() for text in v)\n",
        "df = pd.DataFrame(lis, columns=['text','label'])"
      ],
      "execution_count": null,
      "outputs": []
    },
    {
      "cell_type": "code",
      "metadata": {
        "colab": {
          "base_uri": "https://localhost:8080/",
          "height": 419
        },
        "id": "FHFOzeeW385f",
        "outputId": "5a9a33cd-9882-49e8-d55d-8745a440ba97"
      },
      "source": [
        "df"
      ],
      "execution_count": null,
      "outputs": [
        {
          "output_type": "execute_result",
          "data": {
            "text/html": [
              "<div>\n",
              "<style scoped>\n",
              "    .dataframe tbody tr th:only-of-type {\n",
              "        vertical-align: middle;\n",
              "    }\n",
              "\n",
              "    .dataframe tbody tr th {\n",
              "        vertical-align: top;\n",
              "    }\n",
              "\n",
              "    .dataframe thead th {\n",
              "        text-align: right;\n",
              "    }\n",
              "</style>\n",
              "<table border=\"1\" class=\"dataframe\">\n",
              "  <thead>\n",
              "    <tr style=\"text-align: right;\">\n",
              "      <th></th>\n",
              "      <th>text</th>\n",
              "      <th>label</th>\n",
              "    </tr>\n",
              "  </thead>\n",
              "  <tbody>\n",
              "    <tr>\n",
              "      <th>0</th>\n",
              "      <td>How does Kindly work when providing clients wi...</td>\n",
              "      <td>1</td>\n",
              "    </tr>\n",
              "    <tr>\n",
              "      <th>1</th>\n",
              "      <td>How do you work when building bots?</td>\n",
              "      <td>1</td>\n",
              "    </tr>\n",
              "    <tr>\n",
              "      <th>2</th>\n",
              "      <td>Building process of Kindly bots</td>\n",
              "      <td>1</td>\n",
              "    </tr>\n",
              "    <tr>\n",
              "      <th>3</th>\n",
              "      <td>How do you build bots?</td>\n",
              "      <td>1</td>\n",
              "    </tr>\n",
              "    <tr>\n",
              "      <th>4</th>\n",
              "      <td>What should we expect during a bot delivery?</td>\n",
              "      <td>1</td>\n",
              "    </tr>\n",
              "    <tr>\n",
              "      <th>...</th>\n",
              "      <td>...</td>\n",
              "      <td>...</td>\n",
              "    </tr>\n",
              "    <tr>\n",
              "      <th>1096</th>\n",
              "      <td>Can you help us build a bot?</td>\n",
              "      <td>38</td>\n",
              "    </tr>\n",
              "    <tr>\n",
              "      <th>1097</th>\n",
              "      <td>We want a bot from you</td>\n",
              "      <td>38</td>\n",
              "    </tr>\n",
              "    <tr>\n",
              "      <th>1098</th>\n",
              "      <td>We want a bot on our own website</td>\n",
              "      <td>38</td>\n",
              "    </tr>\n",
              "    <tr>\n",
              "      <th>1099</th>\n",
              "      <td>Where can we place an order on a bot?</td>\n",
              "      <td>38</td>\n",
              "    </tr>\n",
              "    <tr>\n",
              "      <th>1100</th>\n",
              "      <td>Help us get a bot.</td>\n",
              "      <td>38</td>\n",
              "    </tr>\n",
              "  </tbody>\n",
              "</table>\n",
              "<p>1101 rows × 2 columns</p>\n",
              "</div>"
            ],
            "text/plain": [
              "                                                   text  label\n",
              "0     How does Kindly work when providing clients wi...      1\n",
              "1                   How do you work when building bots?      1\n",
              "2                       Building process of Kindly bots      1\n",
              "3                                How do you build bots?      1\n",
              "4          What should we expect during a bot delivery?      1\n",
              "...                                                 ...    ...\n",
              "1096                       Can you help us build a bot?     38\n",
              "1097                             We want a bot from you     38\n",
              "1098                   We want a bot on our own website     38\n",
              "1099              Where can we place an order on a bot?     38\n",
              "1100                                 Help us get a bot.     38\n",
              "\n",
              "[1101 rows x 2 columns]"
            ]
          },
          "metadata": {
            "tags": []
          },
          "execution_count": 39
        }
      ]
    },
    {
      "cell_type": "code",
      "metadata": {
        "id": "ygkYzpR-cktT"
      },
      "source": [
        "from sklearn.model_selection import train_test_split\n",
        "\n",
        "train_texts, test_texts, train_labels, test_labels = train_test_split(df['text'].tolist(), df['label'].tolist(), test_size=.3)"
      ],
      "execution_count": null,
      "outputs": []
    },
    {
      "cell_type": "code",
      "metadata": {
        "id": "tvt1dPj6cmF1"
      },
      "source": [
        "from transformers import DistilBertTokenizerFast\n",
        "tokenizer = DistilBertTokenizerFast.from_pretrained('distilbert-base-uncased')\n",
        "\n",
        "train_encodings = tokenizer(train_texts, truncation=True, padding=True, return_tensors=\"tf\")\n",
        "test_encodings = tokenizer(test_texts, truncation=True, padding=True, return_tensors=\"tf\")"
      ],
      "execution_count": null,
      "outputs": []
    },
    {
      "cell_type": "code",
      "metadata": {
        "id": "R0Og6pEAc-ZL"
      },
      "source": [
        "train_dataset = tf.data.Dataset.from_tensor_slices((dict(train_encodings),\n",
        "                                    train_labels))\n",
        "test_dataset  = tf.data.Dataset.from_tensor_slices((dict(test_encodings),\n",
        "                                    test_labels))\n"
      ],
      "execution_count": null,
      "outputs": []
    },
    {
      "cell_type": "code",
      "metadata": {
        "colab": {
          "base_uri": "https://localhost:8080/"
        },
        "id": "Imf5A6_Unxs3",
        "outputId": "10f329f7-b8be-4a2d-ad9c-3bea2a3fd6e0"
      },
      "source": [
        "BATCH_SIZE = 100\n",
        "N_EPOCHS = 15\n",
        "\n",
        "model = TFDistilBertForSequenceClassification.from_pretrained(\"distilbert-base-uncased\", num_labels=39)\n",
        "#chose the optimizer\n",
        "optimizerr = tf.keras.optimizers.Adam(learning_rate=5e-5)\n",
        "#define the loss function \n",
        "losss = tf.keras.losses.SparseCategoricalCrossentropy(from_logits=True)\n",
        "\n",
        "#build the model\n",
        "model.compile(optimizer=optimizerr,\n",
        "                loss=losss,\n",
        "                metrics=['accuracy'])\n",
        "\n",
        "logdir = os.path.join(\"logs\", datetime.datetime.now().strftime(\"%Y%m%d-%H%M%S\"))\n",
        "tensorboard_callback = tf.keras.callbacks.TensorBoard(logdir, histogram_freq=1)\n",
        "\n",
        "\n",
        "# train the model\n",
        "model.fit(train_dataset.shuffle(1000).batch(BATCH_SIZE),\n",
        "          epochs=N_EPOCHS,\n",
        "          batch_size=BATCH_SIZE, \n",
        "          callbacks=[tensorboard_callback])"
      ],
      "execution_count": null,
      "outputs": [
        {
          "output_type": "stream",
          "text": [
            "Some layers from the model checkpoint at distilbert-base-uncased were not used when initializing TFDistilBertForSequenceClassification: ['vocab_layer_norm', 'vocab_projector', 'vocab_transform', 'activation_13']\n",
            "- This IS expected if you are initializing TFDistilBertForSequenceClassification from the checkpoint of a model trained on another task or with another architecture (e.g. initializing a BertForSequenceClassification model from a BertForPreTraining model).\n",
            "- This IS NOT expected if you are initializing TFDistilBertForSequenceClassification from the checkpoint of a model that you expect to be exactly identical (initializing a BertForSequenceClassification model from a BertForSequenceClassification model).\n",
            "Some layers of TFDistilBertForSequenceClassification were not initialized from the model checkpoint at distilbert-base-uncased and are newly initialized: ['classifier', 'dropout_119', 'pre_classifier']\n",
            "You should probably TRAIN this model on a down-stream task to be able to use it for predictions and inference.\n"
          ],
          "name": "stderr"
        },
        {
          "output_type": "stream",
          "text": [
            "Epoch 1/15\n",
            "WARNING:tensorflow:The parameters `output_attentions`, `output_hidden_states` and `use_cache` cannot be updated when calling a model.They have to be set to True/False in the config object (i.e.: `config=XConfig.from_pretrained('name', output_attentions=True)`).\n",
            "WARNING:tensorflow:The parameter `return_dict` cannot be set in graph mode and will always be set to `True`.\n",
            "WARNING:tensorflow:The parameters `output_attentions`, `output_hidden_states` and `use_cache` cannot be updated when calling a model.They have to be set to True/False in the config object (i.e.: `config=XConfig.from_pretrained('name', output_attentions=True)`).\n",
            "WARNING:tensorflow:The parameter `return_dict` cannot be set in graph mode and will always be set to `True`.\n",
            "8/8 [==============================] - 11s 441ms/step - loss: 3.6358 - accuracy: 0.0584\n",
            "Epoch 2/15\n",
            "8/8 [==============================] - 2s 274ms/step - loss: 3.4860 - accuracy: 0.1143\n",
            "Epoch 3/15\n",
            "8/8 [==============================] - 2s 273ms/step - loss: 3.2681 - accuracy: 0.2325\n",
            "Epoch 4/15\n",
            "8/8 [==============================] - 2s 276ms/step - loss: 3.0048 - accuracy: 0.4221\n",
            "Epoch 5/15\n",
            "8/8 [==============================] - 2s 276ms/step - loss: 2.7123 - accuracy: 0.6065\n",
            "Epoch 6/15\n",
            "8/8 [==============================] - 2s 276ms/step - loss: 2.3991 - accuracy: 0.6870\n",
            "Epoch 7/15\n",
            "8/8 [==============================] - 2s 274ms/step - loss: 2.0776 - accuracy: 0.7584\n",
            "Epoch 8/15\n",
            "8/8 [==============================] - 2s 274ms/step - loss: 1.7577 - accuracy: 0.8039\n",
            "Epoch 9/15\n",
            "8/8 [==============================] - 2s 275ms/step - loss: 1.4701 - accuracy: 0.8545\n",
            "Epoch 10/15\n",
            "8/8 [==============================] - 2s 274ms/step - loss: 1.2036 - accuracy: 0.8883\n",
            "Epoch 11/15\n",
            "8/8 [==============================] - 2s 274ms/step - loss: 0.9830 - accuracy: 0.9169\n",
            "Epoch 12/15\n",
            "8/8 [==============================] - 2s 275ms/step - loss: 0.7888 - accuracy: 0.9416\n",
            "Epoch 13/15\n",
            "8/8 [==============================] - 2s 275ms/step - loss: 0.6306 - accuracy: 0.9610\n",
            "Epoch 14/15\n",
            "8/8 [==============================] - 2s 278ms/step - loss: 0.5019 - accuracy: 0.9779\n",
            "Epoch 15/15\n",
            "8/8 [==============================] - 2s 275ms/step - loss: 0.4090 - accuracy: 0.9896\n"
          ],
          "name": "stdout"
        },
        {
          "output_type": "execute_result",
          "data": {
            "text/plain": [
              "<tensorflow.python.keras.callbacks.History at 0x7fe599495cd0>"
            ]
          },
          "metadata": {
            "tags": []
          },
          "execution_count": 46
        }
      ]
    },
    {
      "cell_type": "code",
      "metadata": {
        "colab": {
          "base_uri": "https://localhost:8080/"
        },
        "id": "oTwLOyaNfLXN",
        "outputId": "2b8f0155-99d6-435b-b115-9f309ca444d7"
      },
      "source": [
        "model.evaluate(test_dataset.shuffle(1000).batch(BATCH_SIZE), \n",
        "               return_dict=True, batch_size=BATCH_SIZE)"
      ],
      "execution_count": null,
      "outputs": [
        {
          "output_type": "stream",
          "text": [
            "WARNING:tensorflow:The parameters `output_attentions`, `output_hidden_states` and `use_cache` cannot be updated when calling a model.They have to be set to True/False in the config object (i.e.: `config=XConfig.from_pretrained('name', output_attentions=True)`).\n",
            "WARNING:tensorflow:The parameter `return_dict` cannot be set in graph mode and will always be set to `True`.\n",
            "4/4 [==============================] - 2s 77ms/step - loss: 0.8890 - accuracy: 0.8036\n"
          ],
          "name": "stdout"
        },
        {
          "output_type": "execute_result",
          "data": {
            "text/plain": [
              "{'accuracy': 0.8036254048347473, 'loss': 0.8889644145965576}"
            ]
          },
          "metadata": {
            "tags": []
          },
          "execution_count": 47
        }
      ]
    },
    {
      "cell_type": "code",
      "metadata": {
        "id": "dbTjxfTSwni9"
      },
      "source": [
        "def predict_proba(text_list, model, tokenizer):  \n",
        "    #tokenize the text\n",
        "    encodings = tokenizer(text_list, \n",
        "                          truncation=True, \n",
        "                          padding=True)\n",
        "    #transform to tf.Dataset\n",
        "    dataset = tf.data.Dataset.from_tensor_slices((dict(encodings)))\n",
        "    #predict\n",
        "    preds = model.predict(dataset.batch(1)).logits  \n",
        "    \n",
        "    #transform to array with probabilities\n",
        "    res = tf.nn.softmax(preds, axis=1).numpy()      \n",
        "    \n",
        "    return res"
      ],
      "execution_count": null,
      "outputs": []
    },
    {
      "cell_type": "code",
      "metadata": {
        "colab": {
          "base_uri": "https://localhost:8080/"
        },
        "id": "Hy_I-Iglw0sv",
        "outputId": "b32b0680-3cff-4688-c57c-98d553a16456"
      },
      "source": [
        "pp = predict_proba(test_texts, model, tokenizer)\n",
        "y_pred = pp.argmax(-1)\n",
        "right = y_pred == test_labels"
      ],
      "execution_count": null,
      "outputs": [
        {
          "output_type": "stream",
          "text": [
            "WARNING:tensorflow:The parameters `output_attentions`, `output_hidden_states` and `use_cache` cannot be updated when calling a model.They have to be set to True/False in the config object (i.e.: `config=XConfig.from_pretrained('name', output_attentions=True)`).\n",
            "WARNING:tensorflow:The parameter `return_dict` cannot be set in graph mode and will always be set to `True`.\n"
          ],
          "name": "stdout"
        }
      ]
    },
    {
      "cell_type": "code",
      "metadata": {
        "colab": {
          "base_uri": "https://localhost:8080/",
          "height": 419
        },
        "id": "QhGgykr1fyXj",
        "outputId": "0d2c06c7-3df1-49dc-9a04-2c3d3d0cc861"
      },
      "source": [
        "val_df = pd.DataFrame(data={'text':test_texts, 'pred': right})\n",
        "val_df"
      ],
      "execution_count": null,
      "outputs": [
        {
          "output_type": "execute_result",
          "data": {
            "text/html": [
              "<div>\n",
              "<style scoped>\n",
              "    .dataframe tbody tr th:only-of-type {\n",
              "        vertical-align: middle;\n",
              "    }\n",
              "\n",
              "    .dataframe tbody tr th {\n",
              "        vertical-align: top;\n",
              "    }\n",
              "\n",
              "    .dataframe thead th {\n",
              "        text-align: right;\n",
              "    }\n",
              "</style>\n",
              "<table border=\"1\" class=\"dataframe\">\n",
              "  <thead>\n",
              "    <tr style=\"text-align: right;\">\n",
              "      <th></th>\n",
              "      <th>text</th>\n",
              "      <th>pred</th>\n",
              "    </tr>\n",
              "  </thead>\n",
              "  <tbody>\n",
              "    <tr>\n",
              "      <th>0</th>\n",
              "      <td>I need to know who to talk to if I want to get...</td>\n",
              "      <td>True</td>\n",
              "    </tr>\n",
              "    <tr>\n",
              "      <th>1</th>\n",
              "      <td>What can we expect when ordering a bot?</td>\n",
              "      <td>False</td>\n",
              "    </tr>\n",
              "    <tr>\n",
              "      <th>2</th>\n",
              "      <td>What if we need more than an FAQ?</td>\n",
              "      <td>True</td>\n",
              "    </tr>\n",
              "    <tr>\n",
              "      <th>3</th>\n",
              "      <td>Are bots able to communicate with APIs?</td>\n",
              "      <td>True</td>\n",
              "    </tr>\n",
              "    <tr>\n",
              "      <th>4</th>\n",
              "      <td>How much revenue can we get with a bot?</td>\n",
              "      <td>True</td>\n",
              "    </tr>\n",
              "    <tr>\n",
              "      <th>...</th>\n",
              "      <td>...</td>\n",
              "      <td>...</td>\n",
              "    </tr>\n",
              "    <tr>\n",
              "      <th>326</th>\n",
              "      <td>Can we meet to talk about bots?</td>\n",
              "      <td>True</td>\n",
              "    </tr>\n",
              "    <tr>\n",
              "      <th>327</th>\n",
              "      <td>What should I ask this bot about?</td>\n",
              "      <td>False</td>\n",
              "    </tr>\n",
              "    <tr>\n",
              "      <th>328</th>\n",
              "      <td>Are your bot deliveries well organized?</td>\n",
              "      <td>False</td>\n",
              "    </tr>\n",
              "    <tr>\n",
              "      <th>329</th>\n",
              "      <td>Can humans answer in Kindly chat?</td>\n",
              "      <td>False</td>\n",
              "    </tr>\n",
              "    <tr>\n",
              "      <th>330</th>\n",
              "      <td>Find out how many employees there are in Conve...</td>\n",
              "      <td>True</td>\n",
              "    </tr>\n",
              "  </tbody>\n",
              "</table>\n",
              "<p>331 rows × 2 columns</p>\n",
              "</div>"
            ],
            "text/plain": [
              "                                                  text   pred\n",
              "0    I need to know who to talk to if I want to get...   True\n",
              "1              What can we expect when ordering a bot?  False\n",
              "2                    What if we need more than an FAQ?   True\n",
              "3              Are bots able to communicate with APIs?   True\n",
              "4              How much revenue can we get with a bot?   True\n",
              "..                                                 ...    ...\n",
              "326                    Can we meet to talk about bots?   True\n",
              "327                  What should I ask this bot about?  False\n",
              "328            Are your bot deliveries well organized?  False\n",
              "329                  Can humans answer in Kindly chat?  False\n",
              "330  Find out how many employees there are in Conve...   True\n",
              "\n",
              "[331 rows x 2 columns]"
            ]
          },
          "metadata": {
            "tags": []
          },
          "execution_count": 50
        }
      ]
    },
    {
      "cell_type": "code",
      "metadata": {
        "colab": {
          "base_uri": "https://localhost:8080/",
          "height": 1000
        },
        "id": "mgVydAPz2eBv",
        "outputId": "cd3c9f35-881b-4857-a0a7-cd396b903ee8"
      },
      "source": [
        "from sklearn.metrics import plot_confusion_matrix\n",
        "from matplotlib import pyplot as plt\n",
        "\n",
        "fig, ax = plt.subplots(figsize=(30, 30))\n",
        "IC = type('IdentityClassifier', (), {\"predict\": lambda i : i, \"_estimator_type\": \"classifier\"})\n",
        "plot_confusion_matrix(IC, y_pred, test_labels, labels=range(0,39), ax=ax);"
      ],
      "execution_count": null,
      "outputs": [
        {
          "output_type": "display_data",
          "data": {
            "image/png": "[encoded data removed]",
            "text/plain": [
              "<Figure size 2160x2160 with 2 Axes>"
            ]
          },
          "metadata": {
            "tags": [],
            "needs_background": "light"
          }
        }
      ]
    },
    {
      "cell_type": "code",
      "metadata": {
        "colab": {
          "base_uri": "https://localhost:8080/"
        },
        "id": "UxvjFGqZ2AU6",
        "outputId": "f301a501-d2cf-46ef-fd2f-44c6eaca6579"
      },
      "source": [
        "from sklearn.metrics import confusion_matrix\n",
        "confusion_matrix(test_labels, y_pred)"
      ],
      "execution_count": null,
      "outputs": [
        {
          "output_type": "execute_result",
          "data": {
            "text/plain": [
              "array([[ 1,  0,  0, ...,  0,  0,  0],\n",
              "       [ 0,  6,  0, ...,  0,  0,  0],\n",
              "       [ 0,  0,  3, ...,  0,  0,  0],\n",
              "       ...,\n",
              "       [ 0,  0,  0, ..., 10,  0,  0],\n",
              "       [ 0,  0,  0, ...,  0, 11,  0],\n",
              "       [ 0,  0,  0, ...,  0,  0, 16]])"
            ]
          },
          "metadata": {
            "tags": []
          },
          "execution_count": 24
        }
      ]
    }
  ]
}